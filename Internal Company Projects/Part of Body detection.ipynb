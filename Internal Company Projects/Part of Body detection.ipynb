{
 "cells": [
  {
   "cell_type": "code",
   "execution_count": null,
   "metadata": {},
   "outputs": [],
   "source": [
    "import pandas as pd\n",
    "import codecs\n",
    "\n",
    "# Assuming you have a CSV file named 'Splitfiles_by10k.csv'\n",
    "with codecs.open('Splitfiles_by10k.csv', 'r', encoding='utf-8', errors='ignore') as file:\n",
    "    data = file.read()\n",
    "\n",
    "# Now 'data' contains the content of the file, and you can convert it to a DataFrame\n",
    "df = pd.read_csv(pd.compat.StringIO(data))"
   ]
  },
  {
   "cell_type": "code",
   "execution_count": null,
   "metadata": {},
   "outputs": [],
   "source": [
    "df=df.loc[:,['Part of Body','Claim Description']]\n",
    "df['Claim Description'] = df['Claim Description'].astype('str')\n",
    "df = df[df['Claim Description']!= '']\n",
    "df = df[df['Claim Description']!= '*']"
   ]
  },
  {
   "cell_type": "code",
   "execution_count": null,
   "metadata": {},
   "outputs": [],
   "source": [
    "x=df['Part of Body'].value_counts()\n",
    "x_to_drop= x[x>70].index\n",
    "\n",
    "df = df[df['Part of Body'].isin(x_to_drop)]"
   ]
  },
  {
   "cell_type": "code",
   "execution_count": null,
   "metadata": {},
   "outputs": [],
   "source": [
    "df = df[['Claim Description', 'Part of Body']].reset_index()\n",
    "df = df.drop(df[df['Claim Description'].isna()].index)\n",
    "df.head()"
   ]
  },
  {
   "cell_type": "code",
   "execution_count": null,
   "metadata": {},
   "outputs": [],
   "source": [
    "#Data cleaning and preprocessing\n",
    "import re\n",
    "import nltk\n",
    "nltk.download('stopwords')\n",
    "nltk.download('wordnet')"
   ]
  },
  {
   "cell_type": "code",
   "execution_count": null,
   "metadata": {},
   "outputs": [],
   "source": [
    "from nltk.corpus import stopwords\n",
    "from nltk.stem import WordNetLemmatizer\n",
    "lemmatizer=WordNetLemmatizer()"
   ]
  },
  {
   "cell_type": "code",
   "execution_count": null,
   "metadata": {},
   "outputs": [],
   "source": [
    "corpus = []\n",
    "for i in range(0, len(df)):\n",
    "    review = re.sub('[^a-zA-Z()]', ' ', df['Claim Description'][i])\n",
    "    review = review.lower()\n",
    "    review = review.split()\n",
    "    \n",
    "    review = [lemmatizer.lemmatize(word) for word in review]\n",
    "    review = ' '.join(review)\n",
    "    corpus.append(review)"
   ]
  },
  {
   "cell_type": "code",
   "execution_count": null,
   "metadata": {},
   "outputs": [],
   "source": [
    "corpus"
   ]
  },
  {
   "cell_type": "code",
   "execution_count": null,
   "metadata": {},
   "outputs": [],
   "source": [
    "# Creating the Bag of Words model\n",
    "#from sklearn.feature_extraction.text import CountVectorizer\n",
    "#cv = CountVectorizer(max_features=2500)\n",
    "#X = cv.fit_transform(corpus).toarray()\n",
    "\n",
    "# Creating the TFIDF model\n",
    "from sklearn.feature_extraction.text import TfidfVectorizer\n",
    "tv = TfidfVectorizer(max_features=3000)\n",
    "X = tv.fit_transform(corpus).toarray()\n",
    "\n",
    "df1=X"
   ]
  },
  {
   "cell_type": "code",
   "execution_count": null,
   "metadata": {},
   "outputs": [],
   "source": [
    "#from sklearn.decomposition import PCA\n",
    "#pca = PCA(n_components=0.30)\n",
    "#tfIdfMat_reduced = pca.fit_transform(X.toarray())\n",
    "#tfIdfMat_reduced"
   ]
  },
  {
   "cell_type": "code",
   "execution_count": null,
   "metadata": {},
   "outputs": [],
   "source": [
    "#df1=pd.DataFrame(tfIdfMat_reduced,columns=[\"PCA\"+str(x) for x in range(len(tfIdfMat_reduced[0]))])\n",
    "#df1['Description']= df['Claim Description']\n",
    "df1"
   ]
  },
  {
   "cell_type": "code",
   "execution_count": null,
   "metadata": {},
   "outputs": [],
   "source": [
    "#y=pd.get_dummies(df['Part of Body'])\n",
    "#y=y.iloc[:,1].values\n",
    "y = df['Part of Body'].tolist()\n",
    "y"
   ]
  },
  {
   "cell_type": "code",
   "execution_count": null,
   "metadata": {},
   "outputs": [],
   "source": [
    "#from sklearn.preprocessing import MinMaxScaler\n",
    "#scaler = MinMaxScaler()\n",
    "#X = scaler.fit_transform(df1)\n",
    "#pd.DataFrame(X).head()"
   ]
  },
  {
   "cell_type": "code",
   "execution_count": null,
   "metadata": {},
   "outputs": [],
   "source": [
    "# Train Test Split\n",
    "\n",
    "import numpy as np\n",
    "from sklearn.model_selection import train_test_split\n",
    "X_train, X_test, y_train, y_test = train_test_split(df1, y, test_size = 0.20, random_state = 0)"
   ]
  },
  {
   "cell_type": "code",
   "execution_count": null,
   "metadata": {},
   "outputs": [],
   "source": [
    "from sklearn.naive_bayes import MultinomialNB\n",
    "from sklearn.linear_model import LogisticRegression\n",
    "from sklearn.ensemble import RandomForestClassifier\n",
    "#from xgboost import XGBClassifier\n",
    "#pip install xgboost\n",
    "\n",
    "#POB_detect_model = MultinomialNB().fit(X_train, y_train)-13\n",
    "POB_detect_model = LogisticRegression().fit(X_train, y_train)\n",
    "#POB_detect_model = RandomForestClassifier().fit(X_train, y_train)-53\n",
    "#POB_detect_model = XGBClassifier().fit(X_train, y_train)"
   ]
  },
  {
   "cell_type": "code",
   "execution_count": null,
   "metadata": {},
   "outputs": [],
   "source": [
    "#prediction\n",
    "y_pred_train=POB_detect_model.predict(X_train)\n",
    "y_pred=POB_detect_model.predict(X_test)\n",
    "\n",
    "#probability\n",
    "y_proba= POB_detect_model.predict_proba(X_test)\n",
    "df['Probability']=pd.DataFrame(y_proba).apply(lambda x: max(x)*100,axis=1)"
   ]
  },
  {
   "cell_type": "code",
   "execution_count": null,
   "metadata": {},
   "outputs": [],
   "source": [
    "from sklearn.metrics import accuracy_score,classification_report\n",
    "score=accuracy_score(y_train,y_pred_train)\n",
    "score1=accuracy_score(y_test,y_pred)\n",
    "print(\"Train data: \",score)\n",
    "print(\"Test data: \",score1)"
   ]
  },
  {
   "cell_type": "code",
   "execution_count": null,
   "metadata": {},
   "outputs": [],
   "source": [
    "category_list = df['Part of Body'].unique().astype(str)\n",
    "print(classification_report(y_test,y_pred))"
   ]
  },
  {
   "cell_type": "code",
   "execution_count": null,
   "metadata": {},
   "outputs": [],
   "source": [
    "import pickle\n",
    "# Save the model to a pickle file\n",
    "with open('model.pkl', 'wb') as model_file:\n",
    "    pickle.dump(POB_detect_model, model_file)"
   ]
  },
  {
   "cell_type": "code",
   "execution_count": null,
   "metadata": {},
   "outputs": [],
   "source": [
    "import pickle\n",
    "# Save the model to a pickle file\n",
    "with open('tfidf.pkl', 'wb') as tfidf_file:\n",
    "    pickle.dump(tv, tfidf_file)"
   ]
  },
  {
   "cell_type": "code",
   "execution_count": null,
   "metadata": {},
   "outputs": [],
   "source": [
    "df"
   ]
  },
  {
   "cell_type": "code",
   "execution_count": null,
   "metadata": {},
   "outputs": [],
   "source": []
  }
 ],
 "metadata": {
  "kernelspec": {
   "display_name": "Python 3 (ipykernel)",
   "language": "python",
   "name": "python3"
  },
  "language_info": {
   "codemirror_mode": {
    "name": "ipython",
    "version": 3
   },
   "file_extension": ".py",
   "mimetype": "text/x-python",
   "name": "python",
   "nbconvert_exporter": "python",
   "pygments_lexer": "ipython3",
   "version": "3.9.7"
  }
 },
 "nbformat": 4,
 "nbformat_minor": 2
}
