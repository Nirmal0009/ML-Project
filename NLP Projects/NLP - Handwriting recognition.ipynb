{
 "cells": [
  {
   "cell_type": "code",
   "execution_count": 73,
   "id": "30e8aa52",
   "metadata": {},
   "outputs": [
    {
     "name": "stdout",
     "output_type": "stream",
     "text": [
      "Downloading handwriting-recognition.zip to /Users/shindk\n",
      "100%|█████████████████████████████████████▉| 1.26G/1.26G [01:03<00:00, 24.3MB/s]\n",
      "100%|██████████████████████████████████████| 1.26G/1.26G [01:03<00:00, 21.2MB/s]\n"
     ]
    }
   ],
   "source": [
    "import os\n",
    "\n",
    "os.environ['KAGGLE_USERNAME'] = \"nirmal0\" \n",
    "os.environ['KAGGLE_KEY'] = \"343924e88dce70f947c38e4027581239\"\n",
    "try:\n",
    "  import kaggle \n",
    "except:\n",
    "  !pip install --user kaggle\n",
    "\n",
    "!kaggle datasets download landlord/handwriting-recognition"
   ]
  },
  {
   "cell_type": "code",
   "execution_count": 74,
   "id": "7f9cd5cd",
   "metadata": {},
   "outputs": [],
   "source": [
    "os.listdir('./')\n",
    "\n",
    "try:\n",
    "  import zipfile\n",
    "except:\n",
    "  !pip install --user zipfile \n",
    "  import zipfile\n",
    "\n",
    "with zipfile.ZipFile('./handwriting-recognition.zip', 'r') as zip_ref: zip_ref.extractall('./')"
   ]
  },
  {
   "cell_type": "code",
   "execution_count": 19,
   "id": "d15e74f6",
   "metadata": {},
   "outputs": [],
   "source": [
    "import numpy as np\n",
    "import pandas as pd\n",
    "import matplotlib.pyplot as plt\n",
    "import seaborn as sns\n",
    "import warnings\n",
    "import string\n",
    "import datetime\n",
    "import cv2\n",
    "from PIL import Image\n",
    "from typing import List\n",
    "\n",
    "import tensorflow as tf\n",
    "from tensorflow import keras\n",
    "from tensorflow.keras.models import Model\n",
    "from tensorflow.keras.models import Sequential\n",
    "from tensorflow.keras.layers import Input, Reshape, Flatten, Dense, Activation, BatchNormalization, Dropout\n",
    "from tensorflow.keras.preprocessing.text import Tokenizer\n",
    "from tensorflow.keras.preprocessing.sequence import pad_sequences\n",
    "\n",
    "from sklearn.metrics import confusion_matrix, precision_score, recall_score, f1_score, cohen_kappa_score, accuracy_score"
   ]
  },
  {
   "cell_type": "code",
   "execution_count": 20,
   "id": "530260f0",
   "metadata": {},
   "outputs": [],
   "source": [
    "train_name = pd.read_csv('./written_name_train_v2.csv')\n",
    "test_name = pd.read_csv('./written_name_test_v2.csv')\n",
    "val_name = pd.read_csv('./written_name_validation_v2.csv')"
   ]
  },
  {
   "cell_type": "code",
   "execution_count": 3,
   "id": "34ed105d",
   "metadata": {},
   "outputs": [
    {
     "data": {
      "text/html": [
       "<div>\n",
       "<style scoped>\n",
       "    .dataframe tbody tr th:only-of-type {\n",
       "        vertical-align: middle;\n",
       "    }\n",
       "\n",
       "    .dataframe tbody tr th {\n",
       "        vertical-align: top;\n",
       "    }\n",
       "\n",
       "    .dataframe thead th {\n",
       "        text-align: right;\n",
       "    }\n",
       "</style>\n",
       "<table border=\"1\" class=\"dataframe\">\n",
       "  <thead>\n",
       "    <tr style=\"text-align: right;\">\n",
       "      <th></th>\n",
       "      <th>FILENAME</th>\n",
       "      <th>IDENTITY</th>\n",
       "    </tr>\n",
       "  </thead>\n",
       "  <tbody>\n",
       "    <tr>\n",
       "      <th>count</th>\n",
       "      <td>330961</td>\n",
       "      <td>330396</td>\n",
       "    </tr>\n",
       "    <tr>\n",
       "      <th>unique</th>\n",
       "      <td>330961</td>\n",
       "      <td>100539</td>\n",
       "    </tr>\n",
       "    <tr>\n",
       "      <th>top</th>\n",
       "      <td>TRAIN_00001.jpg</td>\n",
       "      <td>THOMAS</td>\n",
       "    </tr>\n",
       "    <tr>\n",
       "      <th>freq</th>\n",
       "      <td>1</td>\n",
       "      <td>1825</td>\n",
       "    </tr>\n",
       "  </tbody>\n",
       "</table>\n",
       "</div>"
      ],
      "text/plain": [
       "               FILENAME IDENTITY\n",
       "count            330961   330396\n",
       "unique           330961   100539\n",
       "top     TRAIN_00001.jpg   THOMAS\n",
       "freq                  1     1825"
      ]
     },
     "execution_count": 3,
     "metadata": {},
     "output_type": "execute_result"
    }
   ],
   "source": [
    "train_name.describe()"
   ]
  },
  {
   "cell_type": "code",
   "execution_count": 4,
   "id": "4e16283e",
   "metadata": {},
   "outputs": [
    {
     "data": {
      "text/html": [
       "<div>\n",
       "<style scoped>\n",
       "    .dataframe tbody tr th:only-of-type {\n",
       "        vertical-align: middle;\n",
       "    }\n",
       "\n",
       "    .dataframe tbody tr th {\n",
       "        vertical-align: top;\n",
       "    }\n",
       "\n",
       "    .dataframe thead th {\n",
       "        text-align: right;\n",
       "    }\n",
       "</style>\n",
       "<table border=\"1\" class=\"dataframe\">\n",
       "  <thead>\n",
       "    <tr style=\"text-align: right;\">\n",
       "      <th></th>\n",
       "      <th>FILENAME</th>\n",
       "      <th>IDENTITY</th>\n",
       "    </tr>\n",
       "  </thead>\n",
       "  <tbody>\n",
       "    <tr>\n",
       "      <th>count</th>\n",
       "      <td>41370</td>\n",
       "      <td>41300</td>\n",
       "    </tr>\n",
       "    <tr>\n",
       "      <th>unique</th>\n",
       "      <td>41370</td>\n",
       "      <td>20279</td>\n",
       "    </tr>\n",
       "    <tr>\n",
       "      <th>top</th>\n",
       "      <td>TEST_0001.jpg</td>\n",
       "      <td>THOMAS</td>\n",
       "    </tr>\n",
       "    <tr>\n",
       "      <th>freq</th>\n",
       "      <td>1</td>\n",
       "      <td>227</td>\n",
       "    </tr>\n",
       "  </tbody>\n",
       "</table>\n",
       "</div>"
      ],
      "text/plain": [
       "             FILENAME IDENTITY\n",
       "count           41370    41300\n",
       "unique          41370    20279\n",
       "top     TEST_0001.jpg   THOMAS\n",
       "freq                1      227"
      ]
     },
     "execution_count": 4,
     "metadata": {},
     "output_type": "execute_result"
    }
   ],
   "source": [
    "test_name.describe()"
   ]
  },
  {
   "cell_type": "code",
   "execution_count": 5,
   "id": "3ea4ba36",
   "metadata": {},
   "outputs": [
    {
     "name": "stdout",
     "output_type": "stream",
     "text": [
      "<class 'pandas.core.frame.DataFrame'>\n",
      "RangeIndex: 330961 entries, 0 to 330960\n",
      "Data columns (total 2 columns):\n",
      " #   Column    Non-Null Count   Dtype \n",
      "---  ------    --------------   ----- \n",
      " 0   FILENAME  330961 non-null  object\n",
      " 1   IDENTITY  330396 non-null  object\n",
      "dtypes: object(2)\n",
      "memory usage: 5.1+ MB\n"
     ]
    }
   ],
   "source": [
    "train_name.info()"
   ]
  },
  {
   "cell_type": "code",
   "execution_count": 6,
   "id": "a9ede921",
   "metadata": {},
   "outputs": [
    {
     "name": "stdout",
     "output_type": "stream",
     "text": [
      "<class 'pandas.core.frame.DataFrame'>\n",
      "RangeIndex: 41370 entries, 0 to 41369\n",
      "Data columns (total 2 columns):\n",
      " #   Column    Non-Null Count  Dtype \n",
      "---  ------    --------------  ----- \n",
      " 0   FILENAME  41370 non-null  object\n",
      " 1   IDENTITY  41300 non-null  object\n",
      "dtypes: object(2)\n",
      "memory usage: 646.5+ KB\n"
     ]
    }
   ],
   "source": [
    "test_name.info()"
   ]
  },
  {
   "cell_type": "markdown",
   "id": "8c7d20a2",
   "metadata": {},
   "source": [
    "**Images of handwritten names from train dataset.**"
   ]
  },
  {
   "cell_type": "code",
   "execution_count": 139,
   "id": "3bee87dd",
   "metadata": {},
   "outputs": [
    {
     "data": {
      "image/png": "[encoded data removed]",
      "text/plain": [
       "<Figure size 1500x1000 with 4 Axes>"
      ]
     },
     "metadata": {},
     "output_type": "display_data"
    }
   ],
   "source": [
    "plt.figure(figsize=(15,10))\n",
    "\n",
    "for i in range(4):\n",
    "    ax = plt.subplot(4, 2, i+1)\n",
    "    img_dir = './train_v2/train/' + train_name.loc[i, 'FILENAME']\n",
    "    image = cv2.imread(img_dir, cv2.IMREAD_GRAYSCALE) # Reaad image from directory\n",
    "    plt.imshow(image, cmap = 'gray')\n",
    "    plt.title(train_name.loc[i, 'IDENTITY'], fontsize=12)\n",
    "    plt.axis('off')\n",
    "    \n",
    "plt.subplots_adjust(wspace=0.2, hspace=-0.8)"
   ]
  },
  {
   "cell_type": "markdown",
   "id": "0b66417c",
   "metadata": {},
   "source": [
    "### Data Cleaning\n",
    "**Check for null entries in the csv files.**"
   ]
  },
  {
   "cell_type": "code",
   "execution_count": 21,
   "id": "6a8162fd",
   "metadata": {},
   "outputs": [
    {
     "name": "stdout",
     "output_type": "stream",
     "text": [
      "Null in the train dataset is:  565\n",
      "Null in the validation dataset is:  78\n",
      "Null in the test dataset is:  70\n"
     ]
    }
   ],
   "source": [
    "print(\"Null in the train dataset is: \", train_name['IDENTITY'].isnull().sum())\n",
    "print(\"Null in the validation dataset is: \", val_name['IDENTITY'].isnull().sum())\n",
    "print(\"Null in the test dataset is: \", test_name['IDENTITY'].isnull().sum())"
   ]
  },
  {
   "cell_type": "markdown",
   "id": "bb84216c",
   "metadata": {},
   "source": [
    "**Get rid of all the null entries.**"
   ]
  },
  {
   "cell_type": "code",
   "execution_count": 22,
   "id": "403ab158",
   "metadata": {},
   "outputs": [],
   "source": [
    "train_name.dropna(axis=0, inplace=True)\n",
    "val_name.dropna(axis=0, inplace=True)\n",
    "test_name.dropna(axis=0, inplace=True)"
   ]
  },
  {
   "cell_type": "markdown",
   "id": "b338ec2a",
   "metadata": {},
   "source": [
    "**Some images that are unreadable. Some examples here.**"
   ]
  },
  {
   "cell_type": "code",
   "execution_count": 23,
   "id": "a0845da5",
   "metadata": {},
   "outputs": [
    {
     "data": {
      "image/png": "[encoded data removed]",
      "text/plain": [
       "<Figure size 1500x1000 with 4 Axes>"
      ]
     },
     "metadata": {},
     "output_type": "display_data"
    }
   ],
   "source": [
    "unreadable = train_name[train_name['IDENTITY'] == 'UNREADABLE']\n",
    "unreadable.reset_index(inplace = True, drop = True)\n",
    "\n",
    "plt.figure(figsize=(15,10))\n",
    "\n",
    "for i in range(4):\n",
    "    ax = plt.subplot(4, 2, i+1)\n",
    "    img_dir = './train_v2/train/'+unreadable.loc[i, 'FILENAME']\n",
    "    image = cv2.imread(img_dir, cv2.IMREAD_GRAYSCALE)\n",
    "    plt.imshow(image, cmap = 'gray')\n",
    "    plt.title(unreadable.loc[i, 'IDENTITY'], fontsize=12)\n",
    "    plt.axis('off')\n",
    "    \n",
    "plt.subplots_adjust(wspace=0.2, hspace=-0.8)"
   ]
  },
  {
   "cell_type": "markdown",
   "id": "6126dfde",
   "metadata": {},
   "source": [
    "**Drop unreadable images in the csv dataset**"
   ]
  },
  {
   "cell_type": "code",
   "execution_count": 24,
   "id": "d4ab351e",
   "metadata": {},
   "outputs": [],
   "source": [
    "train_name = train_name[train_name['IDENTITY'] != 'UNREADABLE']\n",
    "val_name = val_name[val_name['IDENTITY'] != 'UNREADABLE']\n",
    "test_name = test_name[test_name['IDENTITY'] != 'UNREADABLE']"
   ]
  },
  {
   "cell_type": "markdown",
   "id": "8078472d",
   "metadata": {},
   "source": [
    "**Lowercase for uniformity in data**"
   ]
  },
  {
   "cell_type": "code",
   "execution_count": 25,
   "id": "8aba50a9",
   "metadata": {},
   "outputs": [],
   "source": [
    "train_name['IDENTITY'] = train_name['IDENTITY'].str.lower()\n",
    "val_name['IDENTITY'] = val_name['IDENTITY'].str.lower()\n",
    "test_name['IDENTITY'] = test_name['IDENTITY'].str.lower()"
   ]
  },
  {
   "cell_type": "code",
   "execution_count": 42,
   "id": "ee20c971",
   "metadata": {},
   "outputs": [
    {
     "data": {
      "text/html": [
       "<div>\n",
       "<style scoped>\n",
       "    .dataframe tbody tr th:only-of-type {\n",
       "        vertical-align: middle;\n",
       "    }\n",
       "\n",
       "    .dataframe tbody tr th {\n",
       "        vertical-align: top;\n",
       "    }\n",
       "\n",
       "    .dataframe thead th {\n",
       "        text-align: right;\n",
       "    }\n",
       "</style>\n",
       "<table border=\"1\" class=\"dataframe\">\n",
       "  <thead>\n",
       "    <tr style=\"text-align: right;\">\n",
       "      <th></th>\n",
       "      <th>FILENAME</th>\n",
       "      <th>IDENTITY</th>\n",
       "    </tr>\n",
       "  </thead>\n",
       "  <tbody>\n",
       "    <tr>\n",
       "      <th>0</th>\n",
       "      <td>TRAIN_00001.jpg</td>\n",
       "      <td>balthazar</td>\n",
       "    </tr>\n",
       "    <tr>\n",
       "      <th>1</th>\n",
       "      <td>TRAIN_00002.jpg</td>\n",
       "      <td>simon</td>\n",
       "    </tr>\n",
       "  </tbody>\n",
       "</table>\n",
       "</div>"
      ],
      "text/plain": [
       "          FILENAME   IDENTITY\n",
       "0  TRAIN_00001.jpg  balthazar\n",
       "1  TRAIN_00002.jpg      simon"
      ]
     },
     "execution_count": 42,
     "metadata": {},
     "output_type": "execute_result"
    }
   ],
   "source": [
    "train_name.head(2)"
   ]
  },
  {
   "cell_type": "code",
   "execution_count": 43,
   "id": "510a30ff",
   "metadata": {},
   "outputs": [
    {
     "data": {
      "text/html": [
       "<div>\n",
       "<style scoped>\n",
       "    .dataframe tbody tr th:only-of-type {\n",
       "        vertical-align: middle;\n",
       "    }\n",
       "\n",
       "    .dataframe tbody tr th {\n",
       "        vertical-align: top;\n",
       "    }\n",
       "\n",
       "    .dataframe thead th {\n",
       "        text-align: right;\n",
       "    }\n",
       "</style>\n",
       "<table border=\"1\" class=\"dataframe\">\n",
       "  <thead>\n",
       "    <tr style=\"text-align: right;\">\n",
       "      <th></th>\n",
       "      <th>FILENAME</th>\n",
       "      <th>IDENTITY</th>\n",
       "    </tr>\n",
       "  </thead>\n",
       "  <tbody>\n",
       "    <tr>\n",
       "      <th>41368</th>\n",
       "      <td>VALIDATION_41369.jpg</td>\n",
       "      <td>hamelin</td>\n",
       "    </tr>\n",
       "    <tr>\n",
       "      <th>41369</th>\n",
       "      <td>VALIDATION_41370.jpg</td>\n",
       "      <td>lola</td>\n",
       "    </tr>\n",
       "  </tbody>\n",
       "</table>\n",
       "</div>"
      ],
      "text/plain": [
       "                   FILENAME IDENTITY\n",
       "41368  VALIDATION_41369.jpg  hamelin\n",
       "41369  VALIDATION_41370.jpg     lola"
      ]
     },
     "execution_count": 43,
     "metadata": {},
     "output_type": "execute_result"
    }
   ],
   "source": [
    "val_name.tail(2)"
   ]
  },
  {
   "cell_type": "code",
   "execution_count": 44,
   "id": "c0431874",
   "metadata": {},
   "outputs": [
    {
     "data": {
      "text/html": [
       "<div>\n",
       "<style scoped>\n",
       "    .dataframe tbody tr th:only-of-type {\n",
       "        vertical-align: middle;\n",
       "    }\n",
       "\n",
       "    .dataframe tbody tr th {\n",
       "        vertical-align: top;\n",
       "    }\n",
       "\n",
       "    .dataframe thead th {\n",
       "        text-align: right;\n",
       "    }\n",
       "</style>\n",
       "<table border=\"1\" class=\"dataframe\">\n",
       "  <thead>\n",
       "    <tr style=\"text-align: right;\">\n",
       "      <th></th>\n",
       "      <th>FILENAME</th>\n",
       "      <th>IDENTITY</th>\n",
       "    </tr>\n",
       "  </thead>\n",
       "  <tbody>\n",
       "    <tr>\n",
       "      <th>0</th>\n",
       "      <td>TEST_0001.jpg</td>\n",
       "      <td>kevin</td>\n",
       "    </tr>\n",
       "    <tr>\n",
       "      <th>1</th>\n",
       "      <td>TEST_0002.jpg</td>\n",
       "      <td>clotaire</td>\n",
       "    </tr>\n",
       "  </tbody>\n",
       "</table>\n",
       "</div>"
      ],
      "text/plain": [
       "        FILENAME  IDENTITY\n",
       "0  TEST_0001.jpg     kevin\n",
       "1  TEST_0002.jpg  clotaire"
      ]
     },
     "execution_count": 44,
     "metadata": {},
     "output_type": "execute_result"
    }
   ],
   "source": [
    "test_name.head(2)"
   ]
  },
  {
   "cell_type": "code",
   "execution_count": 26,
   "id": "f74bef5b",
   "metadata": {},
   "outputs": [],
   "source": [
    "# Reset the index and the data cleaning is done.\n",
    "train_name.reset_index(inplace = True, drop = True)\n",
    "val_name.reset_index(inplace = True, drop = True)\n",
    "test_name.reset_index(inplace = True, drop = True)"
   ]
  },
  {
   "cell_type": "markdown",
   "id": "30012ec5",
   "metadata": {},
   "source": [
    "**Image Preprocessing & normalizing**\n",
    "\n",
    "Preprocessing the dataset by resizing the images to a consistent size, normalizing the pixel values.\n",
    "Reshape images to width 265 and height 64. If images are larger than this dimension, crop the image. if the image is smaller than this dimension, we will add white pixels padding and rotate to (x, y). And images are normalized to [0, 1].\n",
    "\n",
    "**Splitted it into training test & validation sets.**"
   ]
  },
  {
   "cell_type": "code",
   "execution_count": 28,
   "id": "080029ea",
   "metadata": {},
   "outputs": [],
   "source": [
    "def image_processing(img):\n",
    "    (h, w) = img.shape\n",
    "    final_img = np.ones([64, 256])*255 # blank white image\n",
    "    # crop if image dimension exceeds the said criteria\n",
    "    if w > 256:\n",
    "        img = img[:, :256]\n",
    "    if h > 64:\n",
    "        img = img[:64, :]\n",
    "    final_img[:h, :w] = img\n",
    "    return cv2.rotate(final_img, cv2.ROTATE_90_CLOCKWISE)\n",
    "\n",
    "df_size = 10000\n",
    "\n",
    "train_x = []\n",
    "val_x = []\n",
    "test_x = []\n",
    "\n",
    "for i in range(df_size):\n",
    "    img_dir = './train_v2/train/' + train_name.loc[i, 'FILENAME']\n",
    "    image = cv2.imread(img_dir, cv2.IMREAD_GRAYSCALE)\n",
    "    image = image_processing(image)\n",
    "    image = image/255.  ## Normalization\n",
    "    image = np.expand_dims(image, axis = 2)\n",
    "    train_x.append(image)\n",
    "    \n",
    "for i in range(df_size):\n",
    "    img_dir = './validation_v2/validation/' + val_name.loc[i, 'FILENAME']\n",
    "    image = cv2.imread(img_dir, cv2.IMREAD_GRAYSCALE)\n",
    "    image = image_processing(image)\n",
    "    image = image/255. ## Normalization\n",
    "    image = np.expand_dims(image, axis = 2)\n",
    "    val_x.append(image)\n",
    "    \n",
    "for i in range(df_size):\n",
    "    img_dir = './test_v2/test/' + test_name.loc[i, 'FILENAME']\n",
    "    image = cv2.imread(img_dir, cv2.IMREAD_GRAYSCALE)\n",
    "    image = image_processing(image)\n",
    "    image = image/255. ## Normalization\n",
    "    image = np.expand_dims(image, axis = 2)\n",
    "    test_x.append(image)\n",
    "   \n",
    "train_x = np.array(train_x)\n",
    "val_x = np.array(val_x)\n",
    "test_x = np.array(test_x)"
   ]
  },
  {
   "cell_type": "code",
   "execution_count": 29,
   "id": "842d418a",
   "metadata": {},
   "outputs": [
    {
     "data": {
      "text/plain": [
       "((10000, 256, 64, 1), (10000, 256, 64, 1), (10000, 256, 64, 1))"
      ]
     },
     "execution_count": 29,
     "metadata": {},
     "output_type": "execute_result"
    }
   ],
   "source": [
    "train_x.shape, val_x.shape, test_x.shape"
   ]
  },
  {
   "cell_type": "code",
   "execution_count": 30,
   "id": "f343de53",
   "metadata": {},
   "outputs": [],
   "source": [
    "train_y = []\n",
    "val_y = []\n",
    "test_y = []\n",
    "\n",
    "def tokenize_df(values, df) -> List:\n",
    "    max_length = max([len(label) for label in train_name['IDENTITY'].values])\n",
    "    tokenizer = Tokenizer(num_words = max_length, char_level = True)\n",
    "    tokenizer.fit_on_texts(values)\n",
    "    list_y = []\n",
    "    for i in range(val_size):\n",
    "        label = df.loc[i, 'IDENTITY']\n",
    "        label_sequence = tokenizer.texts_to_sequences([label])\n",
    "        label = pad_sequences(label_sequence, maxlen = max_length, padding = 'post')[0]\n",
    "        list_y.append(label)\n",
    "    return list_y\n",
    "        \n",
    "train_y = tokenize_df(train_name['IDENTITY'].values, train_name)\n",
    "val_y = tokenize_df(val_name['IDENTITY'].values, val_name)\n",
    "test_y = tokenize_df(test_name['IDENTITY'].values, test_name)\n",
    "\n",
    "train_y = np.array(train_y)\n",
    "val_y = np.array(val_y)\n",
    "test_y = np.array(test_y)"
   ]
  },
  {
   "cell_type": "code",
   "execution_count": 31,
   "id": "5881dc9e",
   "metadata": {},
   "outputs": [
    {
     "data": {
      "text/plain": [
       "((10000, 34), (10000, 34), (10000, 34))"
      ]
     },
     "execution_count": 31,
     "metadata": {},
     "output_type": "execute_result"
    }
   ],
   "source": [
    "train_y.shape, val_y.shape, test_y.shape"
   ]
  },
  {
   "cell_type": "markdown",
   "id": "7b7d6a21",
   "metadata": {},
   "source": [
    "**Building an FNN model, adding & tune the hyperparameters to optimize performance**"
   ]
  },
  {
   "cell_type": "code",
   "execution_count": 67,
   "id": "bf65c7cb",
   "metadata": {},
   "outputs": [
    {
     "name": "stdout",
     "output_type": "stream",
     "text": [
      "Model: \"sequential\"\n",
      "_________________________________________________________________\n",
      " Layer (type)                Output Shape              Param #   \n",
      "=================================================================\n",
      " dense (Dense)               (None, 256, 64, 1)        2         \n",
      "                                                                 \n",
      " flatten (Flatten)           (None, 16384)             0         \n",
      "                                                                 \n",
      " dense_1 (Dense)             (None, 256)               4194560   \n",
      "                                                                 \n",
      " dense_2 (Dense)             (None, 34)                8738      \n",
      "                                                                 \n",
      "=================================================================\n",
      "Total params: 4,203,300\n",
      "Trainable params: 4,203,300\n",
      "Non-trainable params: 0\n",
      "_________________________________________________________________\n"
     ]
    }
   ],
   "source": [
    "tf.keras.backend.clear_session()\n",
    "\n",
    "# Create a sequential model\n",
    "model = Sequential()\n",
    "\n",
    "# Add the input layer\n",
    "image_size = (256, 64)\n",
    "model.add(Dense(1, activation='relu', input_shape=image_size + (1,)))\n",
    "model.add(Flatten())\n",
    "\n",
    "# Add hidden layers\n",
    "model.add(Dense(256, activation='relu'))\n",
    "\n",
    "# Add the output layer\n",
    "model.add(Dense(34, activation='softmax'))\n",
    "\n",
    "# Compile the model with ADAM optimizer and categorical crossentropy loss\n",
    "opt = keras.optimizers.Adam(learning_rate=0.001)\n",
    "model.compile(optimizer=opt, loss='categorical_crossentropy', metrics=['accuracy'])\n",
    "\n",
    "# Print the model summary\n",
    "model.summary()"
   ]
  },
  {
   "cell_type": "markdown",
   "id": "f743d471",
   "metadata": {},
   "source": [
    "**Train the model using the training set**\n"
   ]
  },
  {
   "cell_type": "code",
   "execution_count": 68,
   "id": "b915e9b7",
   "metadata": {},
   "outputs": [
    {
     "name": "stdout",
     "output_type": "stream",
     "text": [
      "Epoch 1/10\n",
      "313/313 [==============================] - 23s 73ms/step - loss: 160.5399 - accuracy: 0.2942 - val_loss: 154.2373 - val_accuracy: 0.3815\n",
      "Epoch 2/10\n",
      "313/313 [==============================] - 20s 63ms/step - loss: 147.8870 - accuracy: 0.3461 - val_loss: 143.3161 - val_accuracy: 0.3815\n",
      "Epoch 3/10\n",
      "313/313 [==============================] - 20s 65ms/step - loss: 138.4787 - accuracy: 0.3637 - val_loss: 135.2510 - val_accuracy: 0.3815\n",
      "Epoch 4/10\n",
      "313/313 [==============================] - 20s 65ms/step - loss: 131.4815 - accuracy: 0.3718 - val_loss: 129.2143 - val_accuracy: 0.3815\n",
      "Epoch 5/10\n",
      "313/313 [==============================] - 21s 66ms/step - loss: 126.2178 - accuracy: 0.3718 - val_loss: 124.6631 - val_accuracy: 0.3815\n",
      "Epoch 6/10\n",
      "313/313 [==============================] - 20s 64ms/step - loss: 122.2065 - accuracy: 0.3718 - val_loss: 121.1701 - val_accuracy: 0.3815\n",
      "Epoch 7/10\n",
      "313/313 [==============================] - 20s 65ms/step - loss: 119.0625 - accuracy: 0.3718 - val_loss: 118.3940 - val_accuracy: 0.3815\n",
      "Epoch 8/10\n",
      "313/313 [==============================] - 19s 62ms/step - loss: 116.5143 - accuracy: 0.3718 - val_loss: 116.1879 - val_accuracy: 0.3815\n",
      "Epoch 9/10\n",
      "313/313 [==============================] - 19s 62ms/step - loss: 114.5301 - accuracy: 0.3718 - val_loss: 114.4371 - val_accuracy: 0.3815\n",
      "Epoch 10/10\n",
      "313/313 [==============================] - 19s 61ms/step - loss: 112.9288 - accuracy: 0.3718 - val_loss: 112.9702 - val_accuracy: 0.3815\n"
     ]
    }
   ],
   "source": [
    "history = model.fit(train_x, train_y, epochs=10, batch_size=32, validation_data=(val_x, val_y))"
   ]
  },
  {
   "cell_type": "markdown",
   "id": "686b5644",
   "metadata": {},
   "source": [
    "**Evaluate the model on the Test dataset**"
   ]
  },
  {
   "cell_type": "code",
   "execution_count": 69,
   "id": "79c2386a",
   "metadata": {},
   "outputs": [
    {
     "name": "stdout",
     "output_type": "stream",
     "text": [
      "313/313 [==============================] - 2s 5ms/step - loss: 113.7884 - accuracy: 0.3814\n",
      "Test loss: 113.78843688964844\n",
      "Test accuracy: 0.3813999891281128\n"
     ]
    }
   ],
   "source": [
    "# Evaluate the model on the test data.\n",
    "test_loss, test_accuracy = model.evaluate(test_x, test_y)\n",
    "\n",
    "print(\"Test loss:\", test_loss)\n",
    "print(\"Test accuracy:\", test_accuracy)"
   ]
  },
  {
   "cell_type": "markdown",
   "id": "4bf5a6a5",
   "metadata": {},
   "source": [
    "**Report the classification accuracy and other evaluation metrics**"
   ]
  },
  {
   "cell_type": "code",
   "execution_count": 65,
   "id": "0b81baf8",
   "metadata": {},
   "outputs": [
    {
     "name": "stdout",
     "output_type": "stream",
     "text": [
      "313/313 [==============================] - 2s 5ms/step\n",
      "Accuracy: 0.3814\n"
     ]
    }
   ],
   "source": [
    "# Assuming you have obtained predicted probabilities for the test data\n",
    "predictions = model.predict(test_x)\n",
    "predicted_classes = np.argmax(predictions, axis=1)\n",
    "\n",
    "# Convert the target values to one-hot encoded format\n",
    "test_y_one_hot = np.argmax(test_y, axis=1)\n",
    "\n",
    "# Calculate accuracy\n",
    "accuracy = accuracy_score(test_y_one_hot, predicted_classes)\n",
    "print(\"Accuracy:\", accuracy)"
   ]
  },
  {
   "cell_type": "code",
   "execution_count": 66,
   "id": "64047e4c",
   "metadata": {},
   "outputs": [
    {
     "name": "stdout",
     "output_type": "stream",
     "text": [
      "Precision: 0.025426666666666667\n",
      "Recall: 0.06666666666666667\n",
      "F1-score: 0.03681289513054389\n"
     ]
    },
    {
     "name": "stderr",
     "output_type": "stream",
     "text": [
      "/Users/shindk/anaconda3/lib/python3.10/site-packages/sklearn/metrics/_classification.py:1344: UndefinedMetricWarning: Precision is ill-defined and being set to 0.0 in labels with no predicted samples. Use `zero_division` parameter to control this behavior.\n",
      "  _warn_prf(average, modifier, msg_start, len(result))\n"
     ]
    }
   ],
   "source": [
    "# Calculate precision, recall, and F1-score\n",
    "precision = precision_score(test_y_one_hot, predicted_classes, average='macro')\n",
    "recall = recall_score(test_y_one_hot, predicted_classes, average='macro')\n",
    "f1 = f1_score(test_y_one_hot, predicted_classes, average='macro')\n",
    "\n",
    "print(\"Precision:\", precision)\n",
    "print(\"Recall:\", recall)\n",
    "print(\"F1-score:\", f1)"
   ]
  },
  {
   "cell_type": "code",
   "execution_count": null,
   "id": "b60e20ca",
   "metadata": {},
   "outputs": [],
   "source": []
  }
 ],
 "metadata": {
  "celltoolbar": "Raw Cell Format",
  "kernelspec": {
   "display_name": "Python 3 (ipykernel)",
   "language": "python",
   "name": "python3"
  },
  "language_info": {
   "codemirror_mode": {
    "name": "ipython",
    "version": 3
   },
   "file_extension": ".py",
   "mimetype": "text/x-python",
   "name": "python",
   "nbconvert_exporter": "python",
   "pygments_lexer": "ipython3",
   "version": "3.9.7"
  }
 },
 "nbformat": 4,
 "nbformat_minor": 5
}
